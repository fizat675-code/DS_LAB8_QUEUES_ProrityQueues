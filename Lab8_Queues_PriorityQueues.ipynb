{
 "cells": [
  {
   "cell_type": "markdown",
   "id": "d7612f46-d556-425f-b28e-4c25b664ce61",
   "metadata": {},
   "source": [
    "# TASK1_Bank Queue Simulation (FIFO)"
   ]
  },
  {
   "cell_type": "code",
   "execution_count": 1,
   "id": "050d4de0",
   "metadata": {},
   "outputs": [
    {
     "name": "stdout",
     "output_type": "stream",
     "text": [
      "Ali joined the line.\n",
      "Sara joined the line.\n",
      "Hamza joined the line.\n",
      "Usman joined the line.\n",
      "Ayesha joined the line.\n",
      "Current Queue: ['Ali', 'Sara', 'Hamza', 'Usman', 'Ayesha']\n",
      "Ali is being served.\n",
      "Sara is being served.\n",
      "Current Queue: ['Hamza', 'Usman', 'Ayesha']\n",
      "Customers still waiting: 3\n"
     ]
    }
   ],
   "source": [
    "\n",
    "from collections import deque\n",
    "\n",
    "class BankQueue:\n",
    "    def __init__(self):\n",
    "        self.queue = deque()\n",
    "\n",
    "    def arrive(self, customer):\n",
    "        self.queue.append(customer)\n",
    "        print(f\"{customer} joined the line.\")\n",
    "\n",
    "    def serve(self):\n",
    "        if self.queue:\n",
    "            served = self.queue.popleft()\n",
    "            print(f\"{served} is being served.\")\n",
    "            return served\n",
    "        else:\n",
    "            print(\"No customers left!\")\n",
    "            return None\n",
    "\n",
    "    def show(self):\n",
    "        print(\"Current Queue:\", list(self.queue))\n",
    "\n",
    "# --- Demo ---\n",
    "bank = BankQueue()\n",
    "bank.arrive(\"Ali\")\n",
    "bank.arrive(\"Sara\")\n",
    "bank.arrive(\"Hamza\")\n",
    "bank.arrive(\"Usman\")\n",
    "bank.arrive(\"Ayesha\")\n",
    "\n",
    "bank.show()\n",
    "bank.serve()\n",
    "bank.serve()\n",
    "bank.show()\n",
    "print(f\"Customers still waiting: {len(bank.queue)}\")\n"
   ]
  },
  {
   "cell_type": "markdown",
   "id": "5d8dc80b-11eb-4909-a8c1-16138425dd64",
   "metadata": {},
   "source": [
    "# Task 2 — Priority Queue Simulation (Numeric Priority)"
   ]
  },
  {
   "cell_type": "code",
   "execution_count": 2,
   "id": "c9e52225",
   "metadata": {},
   "outputs": [
    {
     "name": "stdout",
     "output_type": "stream",
     "text": [
      "Added 'Normal Customer' with priority 3\n",
      "Added 'VIP Customer' with priority 1\n",
      "Added 'Senior Citizen' with priority 2\n",
      "Added 'New Customer' with priority 4\n",
      "Added 'Emergency Case' with priority 1\n",
      "Current tasks: [(1, 'Emergency Case'), (1, 'VIP Customer'), (2, 'Senior Citizen'), (4, 'New Customer'), (3, 'Normal Customer')]\n",
      "Serving 'Emergency Case' (priority 1)\n",
      "Serving 'VIP Customer' (priority 1)\n",
      "Current tasks: [(2, 'Senior Citizen'), (3, 'Normal Customer'), (4, 'New Customer')]\n"
     ]
    }
   ],
   "source": [
    "\n",
    "import heapq\n",
    "\n",
    "class PriorityQueue:\n",
    "    def __init__(self):\n",
    "        self.queue = []\n",
    "\n",
    "    def add_task(self, priority, task):\n",
    "        heapq.heappush(self.queue, (priority, task))\n",
    "        print(f\"Added '{task}' with priority {priority}\")\n",
    "\n",
    "    def serve_task(self):\n",
    "        if self.queue:\n",
    "            priority, task = heapq.heappop(self.queue)\n",
    "            print(f\"Serving '{task}' (priority {priority})\")\n",
    "            return task\n",
    "        else:\n",
    "            print(\"No tasks left!\")\n",
    "            return None\n",
    "\n",
    "    def show(self):\n",
    "        print(\"Current tasks:\", self.queue)\n",
    "\n",
    "# --- Demo ---\n",
    "pq = PriorityQueue()\n",
    "pq.add_task(3, \"Normal Customer\")\n",
    "pq.add_task(1, \"VIP Customer\")\n",
    "pq.add_task(2, \"Senior Citizen\")\n",
    "pq.add_task(4, \"New Customer\")\n",
    "pq.add_task(1, \"Emergency Case\")\n",
    "\n",
    "pq.show()\n",
    "pq.serve_task()\n",
    "pq.serve_task()\n",
    "pq.show()\n"
   ]
  },
  {
   "cell_type": "markdown",
   "id": "f353bca5-1e3b-41c6-9266-7a24847f15c5",
   "metadata": {},
   "source": [
    "# Task 3 — Priority Queue with + / – Signs"
   ]
  },
  {
   "cell_type": "code",
   "execution_count": 3,
   "id": "1d3b4eb8",
   "metadata": {},
   "outputs": [
    {
     "name": "stdout",
     "output_type": "stream",
     "text": [
      "Added task 'VIP Client' with sign '+' (mapped priority=1)\n",
      "Added task 'Normal Client' with sign '-' (mapped priority=2)\n",
      "Added task 'Emergency Case' with sign '+' (mapped priority=1)\n",
      "Added task 'Student Inquiry' with sign '-' (mapped priority=2)\n",
      "Queue Status: [(1, 'Emergency Case'), (2, 'Normal Client'), (1, 'VIP Client'), (2, 'Student Inquiry')]\n",
      "Serving 'Emergency Case' (priority sign +)\n",
      "Serving 'VIP Client' (priority sign +)\n",
      "Queue Status: [(2, 'Normal Client'), (2, 'Student Inquiry')]\n"
     ]
    }
   ],
   "source": [
    "\n",
    "import heapq\n",
    "\n",
    "class SignPriorityQueue:\n",
    "    def __init__(self):\n",
    "        self.queue = []\n",
    "\n",
    "    def add_task(self, task, sign):\n",
    "        priority = 1 if sign == '+' else 2\n",
    "        heapq.heappush(self.queue, (priority, task))\n",
    "        print(f\"Added task '{task}' with sign '{sign}' (mapped priority={priority})\")\n",
    "\n",
    "    def serve_task(self):\n",
    "        if self.queue:\n",
    "            priority, task = heapq.heappop(self.queue)\n",
    "            sign = '+' if priority == 1 else '-'\n",
    "            print(f\"Serving '{task}' (priority sign {sign})\")\n",
    "            return task, sign\n",
    "        else:\n",
    "            print(\"No tasks left!\")\n",
    "            return None\n",
    "\n",
    "    def show(self):\n",
    "        print(\"Queue Status:\", self.queue)\n",
    "\n",
    "# --- Demo ---\n",
    "spq = SignPriorityQueue()\n",
    "spq.add_task(\"VIP Client\", \"+\")\n",
    "spq.add_task(\"Normal Client\", \"-\")\n",
    "spq.add_task(\"Emergency Case\", \"+\")\n",
    "spq.add_task(\"Student Inquiry\", \"-\")\n",
    "\n",
    "spq.show()\n",
    "spq.serve_task()\n",
    "spq.serve_task()\n",
    "spq.show()\n"
   ]
  },
  {
   "cell_type": "markdown",
   "id": "c9ab50f3-5039-4fe8-a1b8-162119a6d2ea",
   "metadata": {},
   "source": [
    "# Task 4 — Mixed Queue Challenge (Bonus)"
   ]
  },
  {
   "cell_type": "code",
   "execution_count": 4,
   "id": "ec4bfba7",
   "metadata": {},
   "outputs": [
    {
     "name": "stdout",
     "output_type": "stream",
     "text": [
      "Ali arrived as NORMAL (-).\n",
      "Sara arrived as NORMAL (-).\n",
      "Hamza arrived as URGENT (+).\n",
      "Noor arrived as NORMAL (-).\n",
      "Zoya arrived as URGENT (+).\n",
      "Bilal arrived as NORMAL (-).\n",
      "Fatima arrived as URGENT (+).\n",
      "Urgent (+) heap: [(1, 'Fatima'), (1, 'Zoya'), (1, 'Hamza')]\n",
      "Normal (-) queue: ['Ali', 'Sara', 'Noor', 'Bilal']\n",
      "Serving URGENT (+): Fatima\n",
      "Serving URGENT (+): Hamza\n",
      "Serving URGENT (+): Zoya\n",
      "Urgent (+) heap: []\n",
      "Normal (-) queue: ['Ali', 'Sara', 'Noor', 'Bilal']\n"
     ]
    }
   ],
   "source": [
    "\n",
    "from collections import deque\n",
    "import heapq\n",
    "\n",
    "class MixedServiceDesk:\n",
    "    def __init__(self):\n",
    "        self.normal = deque()\n",
    "        self.urgent = []\n",
    "\n",
    "    def arrive(self, name, sign='-'):\n",
    "        if sign == '+':\n",
    "            heapq.heappush(self.urgent, (1, name))\n",
    "            print(f\"{name} arrived as URGENT (+).\")\n",
    "        else:\n",
    "            self.normal.append(name)\n",
    "            print(f\"{name} arrived as NORMAL (-).\")\n",
    "\n",
    "    def serve(self):\n",
    "        if self.urgent:\n",
    "            _, name = heapq.heappop(self.urgent)\n",
    "            print(f\"Serving URGENT (+): {name}\")\n",
    "            return name, '+'\n",
    "        elif self.normal:\n",
    "            name = self.normal.popleft()\n",
    "            print(f\"Serving NORMAL (-): {name}\")\n",
    "            return name, '-'\n",
    "        else:\n",
    "            print(\"No customers to serve!\")\n",
    "            return None\n",
    "\n",
    "    def show(self):\n",
    "        print(\"Urgent (+) heap:\", self.urgent)\n",
    "        print(\"Normal (-) queue:\", list(self.normal))\n",
    "\n",
    "# --- Demo ---\n",
    "desk = MixedServiceDesk()\n",
    "desk.arrive(\"Ali\", \"-\")\n",
    "desk.arrive(\"Sara\", \"-\")\n",
    "desk.arrive(\"Hamza\", \"+\")\n",
    "desk.arrive(\"Noor\", \"-\")\n",
    "desk.arrive(\"Zoya\", \"+\")\n",
    "desk.arrive(\"Bilal\", \"-\")\n",
    "desk.arrive(\"Fatima\", \"+\")\n",
    "\n",
    "desk.show()\n",
    "desk.serve()\n",
    "desk.serve()\n",
    "desk.serve()\n",
    "desk.show()\n"
   ]
  },
  {
   "cell_type": "markdown",
   "id": "006a5d83-a154-4d54-9e08-c3b69f365138",
   "metadata": {},
   "source": [
    "# Homework Challenge — Customer Support Chatbot Queue"
   ]
  },
  {
   "cell_type": "code",
   "execution_count": 5,
   "id": "8631c082",
   "metadata": {},
   "outputs": [
    {
     "name": "stdout",
     "output_type": "stream",
     "text": [
      "Normal question from Ali\n",
      "URGENT complaint from Sara\n",
      "Normal question from Hamza\n",
      "URGENT complaint from Zoya\n",
      "Chatbot responding to URGENT: Sara\n",
      "Chatbot responding to URGENT: Zoya\n",
      "Chatbot responding to NORMAL: Ali\n",
      "Chatbot responding to NORMAL: Hamza\n"
     ]
    }
   ],
   "source": [
    "\n",
    "from collections import deque\n",
    "import heapq\n",
    "\n",
    "class ChatbotQueue:\n",
    "    def __init__(self):\n",
    "        self.normal = deque()\n",
    "        self.urgent = []\n",
    "\n",
    "    def message(self, user, sign):\n",
    "        if sign == '+':\n",
    "            heapq.heappush(self.urgent, (1, user))\n",
    "            print(f\"URGENT complaint from {user}\")\n",
    "        else:\n",
    "            self.normal.append(user)\n",
    "            print(f\"Normal question from {user}\")\n",
    "\n",
    "    def respond(self):\n",
    "        if self.urgent:\n",
    "            _, user = heapq.heappop(self.urgent)\n",
    "            print(f\"Chatbot responding to URGENT: {user}\")\n",
    "        elif self.normal:\n",
    "            user = self.normal.popleft()\n",
    "            print(f\"Chatbot responding to NORMAL: {user}\")\n",
    "        else:\n",
    "            print(\"No pending messages!\")\n",
    "\n",
    "# --- Demo ---\n",
    "chat = ChatbotQueue()\n",
    "chat.message(\"Ali\", \"-\")\n",
    "chat.message(\"Sara\", \"+\")\n",
    "chat.message(\"Hamza\", \"-\")\n",
    "chat.message(\"Zoya\", \"+\")\n",
    "\n",
    "chat.respond()\n",
    "chat.respond()\n",
    "chat.respond()\n",
    "chat.respond()\n"
   ]
  }
 ],
 "metadata": {
  "kernelspec": {
   "display_name": "Python [conda env:base] *",
   "language": "python",
   "name": "conda-base-py"
  },
  "language_info": {
   "codemirror_mode": {
    "name": "ipython",
    "version": 3
   },
   "file_extension": ".py",
   "mimetype": "text/x-python",
   "name": "python",
   "nbconvert_exporter": "python",
   "pygments_lexer": "ipython3",
   "version": "3.13.5"
  }
 },
 "nbformat": 4,
 "nbformat_minor": 5
}
